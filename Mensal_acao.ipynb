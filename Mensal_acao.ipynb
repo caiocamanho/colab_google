{
  "nbformat": 4,
  "nbformat_minor": 0,
  "metadata": {
    "colab": {
      "private_outputs": true,
      "provenance": [],
      "authorship_tag": "ABX9TyO4rQyEcslbZOSM8FrFFhm5",
      "include_colab_link": true
    },
    "kernelspec": {
      "name": "python3",
      "display_name": "Python 3"
    },
    "language_info": {
      "name": "python"
    }
  },
  "cells": [
    {
      "cell_type": "markdown",
      "metadata": {
        "id": "view-in-github",
        "colab_type": "text"
      },
      "source": [
        "<a href=\"https://colab.research.google.com/github/caiocamanho/colab_google/blob/main/Mensal_acao.ipynb\" target=\"_parent\"><img src=\"https://colab.research.google.com/assets/colab-badge.svg\" alt=\"Open In Colab\"/></a>"
      ]
    },
    {
      "cell_type": "code",
      "execution_count": null,
      "metadata": {
        "id": "4Z9IRfvvbKdu"
      },
      "outputs": [],
      "source": [
        "!pip install -q yfinance\n",
        "import yfinance as yf\n",
        "import pandas as pd\n",
        "from datetime import datetime\n",
        "\n",
        "def get_petr4_monthly_average_current_year():\n",
        "    \"\"\"\n",
        "    Retrieves and displays the monthly average closing price for PETR4.SA\n",
        "    for the current year.\n",
        "    \"\"\"\n",
        "    ticker_symbol = [\"VALE3.SA\", \"PETR4.SA\",\n",
        "                      \"LEVE3.SA\", \"BBAS3.SA\",\n",
        "                      \"TAEE11.SA\",\"ITSA4.SA\",\n",
        "                     \"BRAP4.SA\", \"BMGB4.SA\",\n",
        "                     \"CEBR3.SA\", \"BBDC4.SA\",\n",
        "                     \"ALLD3.SA\"]\n",
        "    try:\n",
        "        # Download historical data for PETR4.SA\n",
        "        # Fetching data up to the current date to ensure we have the current year's data.\n",
        "        data = yf.download(ticker_symbol, period=\"ytd\", auto_adjust=True) # Using period=\"ytd\" for Year To Date\n",
        "\n",
        "        if data.empty:\n",
        "            print(f\"Não foi possível encontrar dados para o ticker: {ticker_symbol}. Verifique se o ticker está correto.\")\n",
        "            return\n",
        "\n",
        "        # Filter data for the current year (using the downloaded data's index which is the date)\n",
        "        # An alternative to 'period=\"ytd\"' if you need data for the start of the year regardless of download date:\n",
        "        # current_year = datetime.now().year\n",
        "        # data = data[data.index.year == current_year]\n",
        "\n",
        "        # Check if there is data for the current year after filtering\n",
        "        if data.empty:\n",
        "             print(f\"Não há dados disponíveis para o ano corrente para o ticker: {ticker_symbol}.\")\n",
        "             return\n",
        "\n",
        "        # Calculate the monthly average of the 'Close' price for the current year's data\n",
        "        monthly_avg = data['Close'].resample('ME').mean()\n",
        "\n",
        "        # Format the index to be more readable (e.g., 'YYYY-MM')\n",
        "        monthly_avg.index = monthly_avg.index.strftime('%Y-%m')\n",
        "\n",
        "        print(f\"---\")\n",
        "        print(f\"Média mensal do preço de fechamento para {ticker_symbol} ({datetime.now().year}):\\n\")\n",
        "        print(round(monthly_avg,2))\n",
        "        print(f\"---\")\n",
        "\n",
        "    except Exception as e:\n",
        "        print(f\"Ocorreu um erro ao buscar dados para {ticker_symbol}: {e}\")\n",
        "\n",
        "if __name__ == \"__main__\":\n",
        "    # Call the function to get and display the monthly average for the current year\n",
        "    get_petr4_monthly_average_current_year()"
      ]
    }
  ]
}