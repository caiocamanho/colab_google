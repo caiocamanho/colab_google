{
  "nbformat": 4,
  "nbformat_minor": 0,
  "metadata": {
    "colab": {
      "private_outputs": true,
      "provenance": [],
      "authorship_tag": "ABX9TyPdPxtFux3i25+loERi+Mdo",
      "include_colab_link": true
    },
    "kernelspec": {
      "name": "python3",
      "display_name": "Python 3"
    },
    "language_info": {
      "name": "python"
    }
  },
  "cells": [
    {
      "cell_type": "markdown",
      "metadata": {
        "id": "view-in-github",
        "colab_type": "text"
      },
      "source": [
        "<a href=\"https://colab.research.google.com/github/caiocamanho/colab_google/blob/main/DF_Mais_Completo_25_06_25.ipynb\" target=\"_parent\"><img src=\"https://colab.research.google.com/assets/colab-badge.svg\" alt=\"Open In Colab\"/></a>"
      ]
    },
    {
      "cell_type": "code",
      "execution_count": null,
      "metadata": {
        "id": "ByNAu0J2iPYB"
      },
      "outputs": [],
      "source": [
        "!pip install -q yfinance\n",
        "import yfinance as yf\n",
        "import pandas as pd\n",
        "\n",
        "# Definir os tickers das ações em uma lista\n",
        "tickers = [\n",
        "    \"VALE3.SA\", \"PETR4.SA\", \"LEVE3.SA\", \"BBAS3.SA\", \"TAEE11.SA\",\n",
        "    \"ITSA4.SA\", \"BRAP4.SA\", \"BMGB4.SA\", \"CEBR3.SA\", \"BBDC4.SA\",\n",
        "    \"ALLD3.SA\"\n",
        "]\n",
        "\n",
        "# Criar um dicionário para armazenar os dados das ações\n",
        "stock_data = {}\n",
        "\n",
        "# Iterar sobre cada ticker\n",
        "for ticker in tickers:\n",
        "    # Criar um objeto Ticker\n",
        "    stock = yf.Ticker(ticker)\n",
        "\n",
        "    # Obter informações resumidas da empresa\n",
        "    info = stock.info\n",
        "\n",
        "    # Tentar extrair o dividend yield\n",
        "    dividend_yield = info.get('trailingAnnualDividendYield')\n",
        "\n",
        "    # Tentar extrair o preço atual\n",
        "    current_price = info.get('currentPrice')\n",
        "\n",
        "    # Tentar extrair o P/VP (Price to Book)\n",
        "    price_to_book = info.get('priceToBook')\n",
        "\n",
        "    # Tentar extrair o total de dividendos pagos no último ano\n",
        "    # O yfinance não fornece diretamente o total de dividendos pagos,\n",
        "    # mas podemos calcular a partir do dividendYield e do preço atual\n",
        "    total_dividends_paid = None\n",
        "    if dividend_yield is not None and current_price is not None:\n",
        "        total_dividends_paid = dividend_yield * current_price\n",
        "\n",
        "\n",
        "    stock_data[ticker] = {\n",
        "        'Dividend Yield (%)': None,\n",
        "        'Cotação': None,\n",
        "        'P/VP': None,\n",
        "        'Total Dividendo Pago': None\n",
        "    }\n",
        "\n",
        "    if dividend_yield is not None:\n",
        "        # O yfinance retorna o dividend yield como uma fração (e.g., 0.05 para 5%)\n",
        "        # Multiplicamos por 100 para obter o valor em porcentagem\n",
        "        stock_data[ticker]['Dividend Yield (%)'] = dividend_yield * 100\n",
        "    else:\n",
        "        print(f\"Não foi possível encontrar o Dividend Yield para {ticker} nas informações disponíveis.\")\n",
        "\n",
        "    if current_price is not None:\n",
        "        stock_data[ticker]['Cotação'] = current_price\n",
        "    else:\n",
        "        print(f\"Não foi possível encontrar o Preço Atual para {ticker} nas informações disponíveis.\")\n",
        "\n",
        "    if price_to_book is not None:\n",
        "        stock_data[ticker]['P/VP'] = price_to_book\n",
        "    else:\n",
        "        print(f\"Não foi possível encontrar o P/VP para {ticker} nas informações disponíveis.\")\n",
        "\n",
        "    if total_dividends_paid is not None:\n",
        "        stock_data[ticker]['Total Dividendo Pago'] = total_dividends_paid\n",
        "    else:\n",
        "        print(f\"Não foi possível calcular o Total de Dividendo Pago para {ticker}.\")\n",
        "\n",
        "\n",
        "# Criar um DataFrame a partir do dicionário\n",
        "df_stock_data = pd.DataFrame.from_dict(stock_data, orient='index').reset_index()\n",
        "df_stock_data = df_stock_data.rename(columns={'index': 'Ticker'})\n",
        "\n",
        "# Ordenar o DataFrame em ordem decrescente pelo Dividend Yield\n",
        "df_stock_data = df_stock_data.sort_values(by='Dividend Yield (%)', ascending=False)\n",
        "\n",
        "# Formatar as colunas numéricas\n",
        "df_stock_data['Dividend Yield (%)'] = df_stock_data['Dividend Yield (%)'].round(2)\n",
        "df_stock_data['Cotação'] = df_stock_data['Cotação'].round(2)\n",
        "df_stock_data['P/VP'] = df_stock_data['P/VP'].round(2)\n",
        "df_stock_data['Total Dividendo Pago'] = df_stock_data['Total Dividendo Pago'].round(2)\n",
        "\n",
        "\n",
        "# Apresentar o DataFrame\n",
        "display(df_stock_data)"
      ]
    }
  ]
}