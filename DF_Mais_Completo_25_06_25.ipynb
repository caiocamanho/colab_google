!pip install -q yfinance
import yfinance as yf
import pandas as pd

# Definir os tickers das ações em uma lista
tickers = [
    "VALE3.SA", "PETR4.SA", "LEVE3.SA", "BBAS3.SA", "TAEE11.SA",
    "ITSA4.SA", "BRAP4.SA", "BMGB4.SA", "CEBR3.SA", "BBDC4.SA",
    "ALLD3.SA"
]

# Criar um dicionário para armazenar os dados das ações
stock_data = {}

# Iterar sobre cada ticker
for ticker in tickers:
    # Criar um objeto Ticker
    stock = yf.Ticker(ticker)

    # Obter informações resumidas da empresa
    info = stock.info

    # Tentar extrair o dividend yield
    dividend_yield = info.get('trailingAnnualDividendYield')

    # Tentar extrair o preço atual
    current_price = info.get('currentPrice')

    # Tentar extrair o P/VP (Price to Book)
    price_to_book = info.get('priceToBook')

    # Tentar extrair o total de dividendos pagos no último ano
    # O yfinance não fornece diretamente o total de dividendos pagos,
    # mas podemos calcular a partir do dividendYield e do preço atual
    total_dividends_paid = None
    if dividend_yield is not None and current_price is not None:
        total_dividends_paid = dividend_yield * current_price


    stock_data[ticker] = {
        'Dividend Yield (%)': None,
        'Cotação': None,
        'P/VP': None,
        'Total Dividendo Pago': None
    }

    if dividend_yield is not None:
        # O yfinance retorna o dividend yield como uma fração (e.g., 0.05 para 5%)
        # Multiplicamos por 100 para obter o valor em porcentagem
        stock_data[ticker]['Dividend Yield (%)'] = dividend_yield * 100
    else:
        print(f"Não foi possível encontrar o Dividend Yield para {ticker} nas informações disponíveis.")

    if current_price is not None:
        stock_data[ticker]['Cotação'] = current_price
    else:
        print(f"Não foi possível encontrar o Preço Atual para {ticker} nas informações disponíveis.")

    if price_to_book is not None:
        stock_data[ticker]['P/VP'] = price_to_book
    else:
        print(f"Não foi possível encontrar o P/VP para {ticker} nas informações disponíveis.")

    if total_dividends_paid is not None:
        stock_data[ticker]['Total Dividendo Pago'] = total_dividends_paid
    else:
        print(f"Não foi possível calcular o Total de Dividendo Pago para {ticker}.")


# Criar um DataFrame a partir do dicionário
df_stock_data = pd.DataFrame.from_dict(stock_data, orient='index').reset_index()
df_stock_data = df_stock_data.rename(columns={'index': 'Ticker'})

# Ordenar o DataFrame em ordem decrescente pelo Dividend Yield
df_stock_data = df_stock_data.sort_values(by='Dividend Yield (%)', ascending=False)

# Formatar as colunas numéricas
df_stock_data['Dividend Yield (%)'] = df_stock_data['Dividend Yield (%)'].round(2)
df_stock_data['Cotação'] = df_stock_data['Cotação'].round(2)
df_stock_data['P/VP'] = df_stock_data['P/VP'].round(2)
df_stock_data['Total Dividendo Pago'] = df_stock_data['Total Dividendo Pago'].round(2)


# Apresentar o DataFrame
display(df_stock_data)
